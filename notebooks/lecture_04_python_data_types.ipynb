{
 "cells": [
  {
   "cell_type": "markdown",
   "id": "f3d92aaa",
   "metadata": {
    "toc": true
   },
   "source": [
    "<h1>Table of Contents<span class=\"tocSkip\"></span></h1>\n",
    "<div class=\"toc\"><ul class=\"toc-item\"><li><span><a href=\"#Numeric-Data-Types-in-Python\" data-toc-modified-id=\"Numeric-Data-Types-in-Python-1\">Numeric Data Types in Python</a></span><ul class=\"toc-item\"><li><span><a href=\"#Built-in-operations-for-numeric-data-types\" data-toc-modified-id=\"Built-in-operations-for-numeric-data-types-1.1\">Built in operations for numeric data types</a></span></li><li><span><a href=\"#Importing-Additional-Methods-from-the-Math-Module\" data-toc-modified-id=\"Importing-Additional-Methods-from-the-Math-Module-1.2\">Importing Additional Methods from the Math Module</a></span></li></ul></li><li><span><a href=\"#Strings\" data-toc-modified-id=\"Strings-2\">Strings</a></span><ul class=\"toc-item\"><li><span><a href=\"#Indexing-and-Slicing-Strings\" data-toc-modified-id=\"Indexing-and-Slicing-Strings-2.1\">Indexing and Slicing Strings</a></span></li><li><span><a href=\"#Working-with-Strings\" data-toc-modified-id=\"Working-with-Strings-2.2\">Working with Strings</a></span></li></ul></li><li><span><a href=\"#Converting-between-string-and-numeric-types\" data-toc-modified-id=\"Converting-between-string-and-numeric-types-3\">Converting between string and numeric types</a></span></li><li><span><a href=\"#Lists\" data-toc-modified-id=\"Lists-4\">Lists</a></span><ul class=\"toc-item\"><li><span><a href=\"#Creating-Lists\" data-toc-modified-id=\"Creating-Lists-4.1\">Creating Lists</a></span></li><li><span><a href=\"#Indexing-Lists\" data-toc-modified-id=\"Indexing-Lists-4.2\">Indexing Lists</a></span></li><li><span><a href=\"#Working-with-Lists\" data-toc-modified-id=\"Working-with-Lists-4.3\">Working with Lists</a></span></li><li><span><a href=\"#Practice:-Creating-and-Sorting-List\" data-toc-modified-id=\"Practice:-Creating-and-Sorting-List-4.4\">Practice: Creating and Sorting List</a></span></li><li><span><a href=\"#Practice:-Inserting-Elements-in-a-List\" data-toc-modified-id=\"Practice:-Inserting-Elements-in-a-List-4.5\">Practice: Inserting Elements in a List</a></span></li><li><span><a href=\"#Practice:-List-Indexing##\" data-toc-modified-id=\"Practice:-List-Indexing##-4.6\">Practice: List Indexing##</a></span></li></ul></li><li><span><a href=\"#Tuples\" data-toc-modified-id=\"Tuples-5\">Tuples</a></span></li><li><span><a href=\"#Dictionaries\" data-toc-modified-id=\"Dictionaries-6\">Dictionaries</a></span><ul class=\"toc-item\"><li><span><a href=\"#Creating-Dictionaries\" data-toc-modified-id=\"Creating-Dictionaries-6.1\">Creating Dictionaries</a></span></li><li><span><a href=\"#Working-with-Dictionaries\" data-toc-modified-id=\"Working-with-Dictionaries-6.2\">Working with Dictionaries</a></span></li><li><span><a href=\"#Dictionaries-are-mutable\" data-toc-modified-id=\"Dictionaries-are-mutable-6.3\">Dictionaries are mutable</a></span></li><li><span><a href=\"#Use-dictionary-keys-to-access-the-values\" data-toc-modified-id=\"Use-dictionary-keys-to-access-the-values-6.4\">Use dictionary keys to access the values</a></span></li><li><span><a href=\"#Dictionaries-compared-to-lists\" data-toc-modified-id=\"Dictionaries-compared-to-lists-6.5\">Dictionaries compared to lists</a></span></li><li><span><a href=\"#You-can-easily-extend-a-dictionary-by-adding-new-keys\" data-toc-modified-id=\"You-can-easily-extend-a-dictionary-by-adding-new-keys-6.6\">You can easily extend a dictionary by adding new keys</a></span></li><li><span><a href=\"#You-can-loop-through-dictionaries\" data-toc-modified-id=\"You-can-loop-through-dictionaries-6.7\">You can loop through dictionaries</a></span></li><li><span><a href=\"#Dictionary-Summary\" data-toc-modified-id=\"Dictionary-Summary-6.8\">Dictionary Summary</a></span></li></ul></li><li><span><a href=\"#What-You-Learned\" data-toc-modified-id=\"What-You-Learned-7\">What You Learned</a></span></li></ul></div>"
   ]
  },
  {
   "cell_type": "markdown",
   "id": "d8297602",
   "metadata": {},
   "source": [
    "*******\n",
    "# The Python Standard Library: Built-in Data Types, Functions, & Modules\n",
    "*******"
   ]
  },
  {
   "cell_type": "markdown",
   "id": "879b68f5",
   "metadata": {},
   "source": [
    "In this session, we explore basic data types and modules that operate on them using Python methods associated with each type.  In this and subsequent notebooks, we draw on material from various sources, including Jean Mark Gawron's book \"Python for Social Science\", available [here](http://www-rohan.sdsu.edu/~gawron/python_for_ss/course_core/book_draft/index.html)\n",
    "\n",
    "Today we will be covering material in sections 3.3 - 3.4.2"
   ]
  },
  {
   "cell_type": "markdown",
   "id": "fbcd78e1",
   "metadata": {},
   "source": [
    "First, some terminology:"
   ]
  },
  {
   "cell_type": "markdown",
   "id": "ae5bbe9a",
   "metadata": {},
   "source": [
    "- **Function**: a Python object that stores a generic, reusable _statement_ or series of statements which define an operation to perform on some future input for the purpose of generating some future output. Always starts with `def do_somthing()` and ends with a `return` statement. For example:"
   ]
  },
  {
   "cell_type": "code",
   "execution_count": null,
   "id": "f2f87f1f",
   "metadata": {},
   "outputs": [],
   "source": [
    "def add_2(x):\n",
    "    return x + 2"
   ]
  },
  {
   "cell_type": "markdown",
   "id": "ec418790",
   "metadata": {},
   "source": [
    "- **Module**: a .py file that is _not_ a script. Instead it stores a combination of statements and functions and variable definitons that can be referenced by other scripts or interactive sessions. Sometimes called a library or a package. All modules must be _imported_ before you can use them. Some modules come pre-installed with Python, while others must be installed manually with a package manager like `pip` or `conda`.\n",
    "- **Method**: a function that is defined within a module. It's a bit more complicated than that in reality, but its OK to think of it that way for now."
   ]
  },
  {
   "cell_type": "markdown",
   "id": "7125c526",
   "metadata": {},
   "source": [
    "The Python Standard Library refers to a collection of modules and standalone functions that are included with every Python installation. Because there is no need to install these separately, we say they are \"built-in\". You can find a full list of built-in Python functions [here](https://docs.python.org/3/library/functions.html)"
   ]
  },
  {
   "cell_type": "markdown",
   "id": "1529b6b8",
   "metadata": {},
   "source": [
    "## Numeric Data Types in Python\n",
    "\n",
    "We have already seen some of the basic interactions with numbers in Python.  The main two numeric types are Int and Float.  In Python 2 there were two versions of integers (int and long), but these have been unified in Python 3."
   ]
  },
  {
   "cell_type": "code",
   "execution_count": null,
   "id": "fc80256c",
   "metadata": {},
   "outputs": [],
   "source": [
    "# Integers are the simplest numeric type\n",
    "type(12)"
   ]
  },
  {
   "cell_type": "code",
   "execution_count": null,
   "id": "552c4472",
   "metadata": {},
   "outputs": [],
   "source": [
    "# Float or Floating Point numbers enable more precision\n",
    "type(12.0000000000001)"
   ]
  },
  {
   "cell_type": "code",
   "execution_count": 5,
   "id": "f1873cf2",
   "metadata": {},
   "outputs": [
    {
     "name": "stdout",
     "output_type": "stream",
     "text": [
      "12.000000000000002\n",
      "12\n"
     ]
    }
   ],
   "source": [
    "# We can assign values to a variable to reuse them\n",
    "x = 12.000000000000001\n",
    "y = 12\n",
    "print(x)\n",
    "print(y)"
   ]
  },
  {
   "cell_type": "markdown",
   "id": "65da3c46",
   "metadata": {},
   "source": [
    "Why not use floats all the time?  They are more precise, after all.  A couple of reasons.  One is that it can be more complicated to do certain things, like compare numbers to see if they are equivalent."
   ]
  },
  {
   "cell_type": "code",
   "execution_count": 6,
   "id": "be385dd2",
   "metadata": {},
   "outputs": [
    {
     "data": {
      "text/plain": [
       "False"
      ]
     },
     "execution_count": 6,
     "metadata": {},
     "output_type": "execute_result"
    }
   ],
   "source": [
    "# Test whether x is equal to y.  \n",
    "x == y"
   ]
  },
  {
   "cell_type": "markdown",
   "id": "43cc2c16",
   "metadata": {},
   "source": [
    "**Try the above by changing the number of decimal places to the original x and test it again...**\n",
    "\n",
    "If two numbers are within some tolerance of each other, Python will consider them close enough to call equal in value."
   ]
  },
  {
   "cell_type": "markdown",
   "id": "b107995d",
   "metadata": {},
   "source": [
    "A second reason is that floating point numbers require more space in memory and on disk if they are in a file.  This is not a problem for a single value, but if you were working with really large databases, it adds up, and could cause you to run out of memory or disk if you used float as the type for all your numeric data.\n",
    "\n",
    "You can **cast** the type of a number to convert it to a specified type, like converting from float to int:\n"
   ]
  },
  {
   "cell_type": "code",
   "execution_count": 7,
   "id": "adfa4f8b",
   "metadata": {},
   "outputs": [
    {
     "name": "stdout",
     "output_type": "stream",
     "text": [
      "12.000000000000002\n",
      "12\n"
     ]
    }
   ],
   "source": [
    "print(x)\n",
    "y = int(x)\n",
    "print(y)"
   ]
  },
  {
   "cell_type": "code",
   "execution_count": 8,
   "id": "a79ac6bf",
   "metadata": {},
   "outputs": [
    {
     "data": {
      "text/plain": [
       "12.0"
      ]
     },
     "execution_count": 8,
     "metadata": {},
     "output_type": "execute_result"
    }
   ],
   "source": [
    "float(y)"
   ]
  },
  {
   "cell_type": "markdown",
   "id": "13fd75e4",
   "metadata": {},
   "source": [
    "### Built in operations for numeric data types\n",
    "\n",
    "Reviewing some of the built-in methods in Python that apply to numeric data types:"
   ]
  },
  {
   "cell_type": "code",
   "execution_count": 9,
   "id": "bb21384d",
   "metadata": {},
   "outputs": [],
   "source": [
    "x = 200\n",
    "y = 12"
   ]
  },
  {
   "cell_type": "code",
   "execution_count": 10,
   "id": "555a39f6",
   "metadata": {},
   "outputs": [
    {
     "data": {
      "text/plain": [
       "188"
      ]
     },
     "execution_count": 10,
     "metadata": {},
     "output_type": "execute_result"
    }
   ],
   "source": [
    "# summation\n",
    "x - y"
   ]
  },
  {
   "cell_type": "code",
   "execution_count": 11,
   "id": "f33d9ff4",
   "metadata": {},
   "outputs": [
    {
     "data": {
      "text/plain": [
       "2400"
      ]
     },
     "execution_count": 11,
     "metadata": {},
     "output_type": "execute_result"
    }
   ],
   "source": [
    "# multiplication\n",
    "x * y"
   ]
  },
  {
   "cell_type": "code",
   "execution_count": 12,
   "id": "e2c817a5",
   "metadata": {},
   "outputs": [
    {
     "data": {
      "text/plain": [
       "16.666666666666668"
      ]
     },
     "execution_count": 12,
     "metadata": {},
     "output_type": "execute_result"
    }
   ],
   "source": [
    "# division\n",
    "x / y"
   ]
  },
  {
   "cell_type": "code",
   "execution_count": 13,
   "id": "e9df8287",
   "metadata": {},
   "outputs": [
    {
     "data": {
      "text/plain": [
       "16"
      ]
     },
     "execution_count": 13,
     "metadata": {},
     "output_type": "execute_result"
    }
   ],
   "source": [
    "# integer division -- floored quotient\n",
    "x // y"
   ]
  },
  {
   "cell_type": "code",
   "execution_count": 14,
   "id": "b40a5ca6",
   "metadata": {},
   "outputs": [
    {
     "data": {
      "text/plain": [
       "8"
      ]
     },
     "execution_count": 14,
     "metadata": {},
     "output_type": "execute_result"
    }
   ],
   "source": [
    "# remainder (modulus) of x / y\n",
    "x % y"
   ]
  },
  {
   "cell_type": "markdown",
   "id": "2eb1fa12",
   "metadata": {},
   "source": [
    "Question: How could you use the modulo (%) operator to find out if a variable is an even number?"
   ]
  },
  {
   "cell_type": "code",
   "execution_count": 15,
   "id": "b59bdf90",
   "metadata": {},
   "outputs": [
    {
     "data": {
      "text/plain": [
       "1"
      ]
     },
     "execution_count": 15,
     "metadata": {},
     "output_type": "execute_result"
    }
   ],
   "source": [
    "79 % 2"
   ]
  },
  {
   "cell_type": "code",
   "execution_count": 16,
   "id": "84afd29e",
   "metadata": {},
   "outputs": [
    {
     "data": {
      "text/plain": [
       "-200"
      ]
     },
     "execution_count": 16,
     "metadata": {},
     "output_type": "execute_result"
    }
   ],
   "source": [
    "# Flipping the sign\n",
    "y = -x\n",
    "y"
   ]
  },
  {
   "cell_type": "code",
   "execution_count": 17,
   "id": "21028e69",
   "metadata": {},
   "outputs": [
    {
     "data": {
      "text/plain": [
       "200"
      ]
     },
     "execution_count": 17,
     "metadata": {},
     "output_type": "execute_result"
    }
   ],
   "source": [
    "# Works in the other direction as well\n",
    "-y"
   ]
  },
  {
   "cell_type": "code",
   "execution_count": 18,
   "id": "0ced45f8",
   "metadata": {},
   "outputs": [
    {
     "data": {
      "text/plain": [
       "100000"
      ]
     },
     "execution_count": 18,
     "metadata": {},
     "output_type": "execute_result"
    }
   ],
   "source": [
    "# Raising x to the power of y\n",
    "x = 10\n",
    "y = 5\n",
    "x ** y"
   ]
  },
  {
   "cell_type": "code",
   "execution_count": 19,
   "id": "73e7a96a",
   "metadata": {},
   "outputs": [
    {
     "data": {
      "text/plain": [
       "3.1416"
      ]
     },
     "execution_count": 19,
     "metadata": {},
     "output_type": "execute_result"
    }
   ],
   "source": [
    "pi = 3.141592653589793\n",
    "round(pi,4)"
   ]
  },
  {
   "cell_type": "markdown",
   "id": "d53eecee",
   "metadata": {},
   "source": [
    "### Importing Additional Methods from the Math Module ###\n",
    "\n",
    "In addition to the functions and operators above, many more are available from the `math` library, which is always available because it is part of the Python Standard Library. But `math` is its own module, so you must explicitly import it before you have access to the methods. A few examples below."
   ]
  },
  {
   "cell_type": "code",
   "execution_count": 20,
   "id": "22568b4c",
   "metadata": {},
   "outputs": [
    {
     "data": {
      "text/plain": [
       "3.1622776601683795"
      ]
     },
     "execution_count": 20,
     "metadata": {},
     "output_type": "execute_result"
    }
   ],
   "source": [
    "import math\n",
    "math.sqrt(x)"
   ]
  },
  {
   "cell_type": "markdown",
   "id": "4bcac756",
   "metadata": {},
   "source": [
    "You can see the full list of functions available in the math library by using tab after the name of the library and a dot:"
   ]
  },
  {
   "cell_type": "code",
   "execution_count": 22,
   "id": "bdde4465",
   "metadata": {},
   "outputs": [],
   "source": [
    "math."
   ]
  },
  {
   "cell_type": "markdown",
   "id": "6f0ee070",
   "metadata": {},
   "source": [
    "And you can get more documentation on a specific function by asking for it:"
   ]
  },
  {
   "cell_type": "code",
   "execution_count": 7,
   "id": "2a9d0532",
   "metadata": {},
   "outputs": [
    {
     "data": {
      "text/plain": [
       "\u001b[1;31mDocstring:\u001b[0m\n",
       "log(x, [base=math.e])\n",
       "Return the logarithm of x to the given base.\n",
       "\n",
       "If the base not specified, returns the natural logarithm (base e) of x.\n",
       "\u001b[1;31mType:\u001b[0m      builtin_function_or_method\n"
      ]
     },
     "metadata": {},
     "output_type": "display_data"
    }
   ],
   "source": [
    "math.log?"
   ]
  },
  {
   "cell_type": "code",
   "execution_count": 8,
   "id": "a079e9f3",
   "metadata": {},
   "outputs": [
    {
     "data": {
      "text/plain": [
       "2.302585092994046"
      ]
     },
     "execution_count": 8,
     "metadata": {},
     "output_type": "execute_result"
    }
   ],
   "source": [
    "math.log(x)"
   ]
  },
  {
   "cell_type": "code",
   "execution_count": 10,
   "id": "fc68fe69",
   "metadata": {},
   "outputs": [],
   "source": [
    "# What happens if we take the log of a number with a value of 0?\n",
    "x = 0\n",
    "math.log(x)"
   ]
  },
  {
   "cell_type": "code",
   "execution_count": 11,
   "id": "ec600283",
   "metadata": {},
   "outputs": [
    {
     "data": {
      "text/plain": [
       "0.0"
      ]
     },
     "execution_count": 11,
     "metadata": {},
     "output_type": "execute_result"
    }
   ],
   "source": [
    "# We could add a 1 to x to avoid this problem\n",
    "math.log(x+1)"
   ]
  },
  {
   "cell_type": "code",
   "execution_count": null,
   "id": "2462d47c",
   "metadata": {},
   "outputs": [],
   "source": [
    "# Or we could use one of the other log functions in math that does this and avoids returning an error\n",
    "math.log1p(x)"
   ]
  },
  {
   "cell_type": "code",
   "execution_count": null,
   "id": "dcfc8ac3",
   "metadata": {},
   "outputs": [],
   "source": [
    "# A common problem is division where the denominator has a value of zero\n",
    "y / x"
   ]
  },
  {
   "cell_type": "code",
   "execution_count": null,
   "id": "64e2e31f",
   "metadata": {},
   "outputs": [],
   "source": [
    "y / (x + 1)"
   ]
  },
  {
   "cell_type": "code",
   "execution_count": 14,
   "id": "30caea56",
   "metadata": {},
   "outputs": [
    {
     "data": {
      "text/plain": [
       "True"
      ]
     },
     "execution_count": 14,
     "metadata": {},
     "output_type": "execute_result"
    }
   ],
   "source": [
    "# Comparing two values to see if they are approximately the same, within some tolerance:\n",
    "x = 12.1\n",
    "z = 12.2\n",
    "math.isclose(x, z, rel_tol=.01)"
   ]
  },
  {
   "cell_type": "code",
   "execution_count": 16,
   "id": "d42b5bf2",
   "metadata": {},
   "outputs": [
    {
     "data": {
      "text/plain": [
       "623.9399999999999"
      ]
     },
     "execution_count": 16,
     "metadata": {},
     "output_type": "execute_result"
    }
   ],
   "source": [
    "# Of course you can put several operations together to compute things, like a quadratic equation.  \n",
    "# We will see how to do this on set of numbers a bit later.\n",
    "a = 2\n",
    "b = 3\n",
    "c = 4\n",
    "y = a + b * x + c * x**2 \n",
    "y"
   ]
  },
  {
   "cell_type": "markdown",
   "id": "cdb12f8f",
   "metadata": {},
   "source": [
    "Note that ordering of operations matters.  Evaluation is not just left to right.  There is a term that might help remember the order by which calculations are done: Parenthesis, Exponents, Multiplication, Division, Addition, Subtraction (PEMDAS).  It is often helpful to use parentheses to group operations even just for readability, but it can make the difference between getting the result right or wrong."
   ]
  },
  {
   "cell_type": "code",
   "execution_count": 17,
   "id": "c5d8a5fb",
   "metadata": {},
   "outputs": [
    {
     "data": {
      "text/plain": [
       "38.3"
      ]
     },
     "execution_count": 17,
     "metadata": {},
     "output_type": "execute_result"
    }
   ],
   "source": [
    "a + b * x"
   ]
  },
  {
   "cell_type": "code",
   "execution_count": 18,
   "id": "f576eb49",
   "metadata": {},
   "outputs": [
    {
     "data": {
      "text/plain": [
       "60.5"
      ]
     },
     "execution_count": 18,
     "metadata": {},
     "output_type": "execute_result"
    }
   ],
   "source": [
    "(a + b ) * x"
   ]
  },
  {
   "cell_type": "markdown",
   "id": "81ed59e9",
   "metadata": {},
   "source": [
    "## Strings"
   ]
  },
  {
   "cell_type": "markdown",
   "id": "c82d88f3",
   "metadata": {},
   "source": [
    "Strings are just text, like in the introductory \"Hello World!\" example.  \n",
    "\n",
    "Let's explore some methods that operate on them, and explain an important distinction between data types.  Let's review quickly what we already know about strings.  We can assign any string to a variable like we would assign an integer or a float to a variable:"
   ]
  },
  {
   "cell_type": "code",
   "execution_count": null,
   "id": "a541dd16",
   "metadata": {},
   "outputs": [],
   "source": [
    "# Try this first just with a text string assigned to a variable\n",
    "a = CP255"
   ]
  },
  {
   "cell_type": "code",
   "execution_count": 19,
   "id": "cb7c1fae",
   "metadata": {},
   "outputs": [
    {
     "data": {
      "text/plain": [
       "str"
      ]
     },
     "execution_count": 19,
     "metadata": {},
     "output_type": "execute_result"
    }
   ],
   "source": [
    "# The string needs to be in quotes for this variable assignment to work\n",
    "a = \"CP255\"\n",
    "type(a)"
   ]
  },
  {
   "cell_type": "code",
   "execution_count": 21,
   "id": "53c07e51",
   "metadata": {},
   "outputs": [],
   "source": [
    "# The quotes can be single or double, but have to match, \n",
    "# or you will get an error as Python can't find the end of the string.\n",
    "a = 'CP255\""
   ]
  },
  {
   "cell_type": "markdown",
   "id": "f047d698",
   "metadata": {},
   "source": [
    "What if you need to create a string that has multiple lines?  There are two ways to create such a string.  The first uses triple quotes."
   ]
  },
  {
   "cell_type": "code",
   "execution_count": 23,
   "id": "c2e739fc",
   "metadata": {},
   "outputs": [
    {
     "name": "stdout",
     "output_type": "stream",
     "text": [
      "\n",
      "  The Zen of Python:\n",
      "  \n",
      "  Beautiful is better than ugly.\n",
      "  Explicit is better than implicit.\n",
      "  Simple is better than complex.\n",
      "  Complex is better than complicated.\n",
      "\n"
     ]
    }
   ],
   "source": [
    "X = \"\"\"\n",
    "  The Zen of Python:\n",
    "  \n",
    "  Beautiful is better than ugly.\n",
    "  Explicit is better than implicit.\n",
    "  Simple is better than complex.\n",
    "  Complex is better than complicated.\n",
    "\"\"\"\n",
    "\n",
    "print(X)"
   ]
  },
  {
   "cell_type": "code",
   "execution_count": 23,
   "id": "9628c696",
   "metadata": {},
   "outputs": [
    {
     "name": "stdout",
     "output_type": "stream",
     "text": [
      "\n",
      "   Beautiful is better than ugly.\n",
      "   Explicit is better than implicit.\n",
      "   Simple is better than complex.\n",
      "   Complex is better than complicated.\n"
     ]
    }
   ],
   "source": [
    "# The second way uses \\n to insert the line endings\n",
    "X = \"\\n   Beautiful is better than ugly.\\n   Explicit is better than implicit.\\n   Simple is better than complex.\\n   Complex is better than complicated.\"\n",
    "print(X)"
   ]
  },
  {
   "cell_type": "code",
   "execution_count": 24,
   "id": "a1dc780d",
   "metadata": {},
   "outputs": [
    {
     "data": {
      "text/plain": [
       "'\\n   Beautiful is better than ugly.\\n   Explicit is better than implicit.\\n   Simple is better than complex.\\n   Complex is better than complicated.'"
      ]
     },
     "execution_count": 24,
     "metadata": {},
     "output_type": "execute_result"
    }
   ],
   "source": [
    "# Notice that the string object X actually has \\n line endings as part of it. \n",
    "# The print function does not print those characters, it just starts a new line.\n",
    "# But if you just type X, its built-in function to print itself shows its contents:\n",
    "X"
   ]
  },
  {
   "cell_type": "markdown",
   "id": "ee5df400",
   "metadata": {},
   "source": [
    "### Indexing and Slicing Strings\n",
    "\n",
    "We can get individual elements of a string (characters) by using indexes, that give us pointers to the positions within a string.  \n",
    "\n",
    "**Notice that counting in Python starts from zero -- essentially all counters are offsets from the first position. This can take a bit of getting used to -- think of it like the way building floors in Europe generally start with zero.  The first floor in Europe would be a second floor in the U.S.**"
   ]
  },
  {
   "cell_type": "code",
   "execution_count": 25,
   "id": "541a67a9",
   "metadata": {},
   "outputs": [
    {
     "data": {
      "text/plain": [
       "'C'"
      ]
     },
     "execution_count": 25,
     "metadata": {},
     "output_type": "execute_result"
    }
   ],
   "source": [
    "a[0]"
   ]
  },
  {
   "cell_type": "markdown",
   "id": "f6c15b28",
   "metadata": {},
   "source": [
    "We can use a the string indexing method to extract a range, or a specific section of a string, beginning from any position and ending in any position.  \n",
    "\n",
    "Python uses a syntax that separates the starting from the ending index position by a colon.  If we leave out the first or last, then the indexing gives all the values up to (but not including) the second value, or all the ones from the first value to the end.  Some examples should make this clearer: "
   ]
  },
  {
   "cell_type": "code",
   "execution_count": 27,
   "id": "a7158d6b",
   "metadata": {},
   "outputs": [
    {
     "data": {
      "text/plain": [
       "'P255'"
      ]
     },
     "execution_count": 27,
     "metadata": {},
     "output_type": "execute_result"
    }
   ],
   "source": [
    "a[1:5]"
   ]
  },
  {
   "cell_type": "code",
   "execution_count": 28,
   "id": "9442639f",
   "metadata": {},
   "outputs": [
    {
     "data": {
      "text/plain": [
       "'CP255'"
      ]
     },
     "execution_count": 28,
     "metadata": {},
     "output_type": "execute_result"
    }
   ],
   "source": [
    "a[:5]"
   ]
  },
  {
   "cell_type": "code",
   "execution_count": 29,
   "id": "95b372ae",
   "metadata": {},
   "outputs": [
    {
     "data": {
      "text/plain": [
       "''"
      ]
     },
     "execution_count": 29,
     "metadata": {},
     "output_type": "execute_result"
    }
   ],
   "source": [
    "a[8:]"
   ]
  },
  {
   "cell_type": "markdown",
   "id": "06a8b0a9",
   "metadata": {},
   "source": [
    "Let's see how this is going... How would we get a slice of a string 'a' that contains the first two elements?"
   ]
  },
  {
   "cell_type": "markdown",
   "id": "3b436095",
   "metadata": {},
   "source": [
    "### Working with Strings"
   ]
  },
  {
   "cell_type": "code",
   "execution_count": 30,
   "id": "2314f1f1",
   "metadata": {},
   "outputs": [
    {
     "data": {
      "text/plain": [
       "'CP255'"
      ]
     },
     "execution_count": 30,
     "metadata": {},
     "output_type": "execute_result"
    }
   ],
   "source": [
    "# A variable containing a string is still an object, and can do things like print itself\n",
    "a"
   ]
  },
  {
   "cell_type": "markdown",
   "id": "6b067e4b",
   "metadata": {},
   "source": [
    "Print works with strings the same way as with numbers, suppressing the quotes"
   ]
  },
  {
   "cell_type": "code",
   "execution_count": 31,
   "id": "1e4025df",
   "metadata": {},
   "outputs": [
    {
     "name": "stdout",
     "output_type": "stream",
     "text": [
      "CP255\n"
     ]
    }
   ],
   "source": [
    "print(a)"
   ]
  },
  {
   "cell_type": "code",
   "execution_count": 25,
   "id": "267f1dbc",
   "metadata": {},
   "outputs": [],
   "source": [
    "a = 'This is CP255!'"
   ]
  },
  {
   "cell_type": "markdown",
   "id": "e4887501",
   "metadata": {},
   "source": [
    "We can find the length of a string using the built-in len function"
   ]
  },
  {
   "cell_type": "code",
   "execution_count": 26,
   "id": "38f34cf3",
   "metadata": {},
   "outputs": [
    {
     "data": {
      "text/plain": [
       "14"
      ]
     },
     "execution_count": 26,
     "metadata": {},
     "output_type": "execute_result"
    }
   ],
   "source": [
    "len(a)"
   ]
  },
  {
   "cell_type": "markdown",
   "id": "e40f365f",
   "metadata": {},
   "source": [
    "\n",
    "Related to indexing, here is a string function to look up a specific substring within a string, and return its index, or position:"
   ]
  },
  {
   "cell_type": "code",
   "execution_count": 27,
   "id": "5da56e7d",
   "metadata": {},
   "outputs": [
    {
     "data": {
      "text/plain": [
       "8"
      ]
     },
     "execution_count": 27,
     "metadata": {},
     "output_type": "execute_result"
    }
   ],
   "source": [
    "str.find(a, 'C')"
   ]
  },
  {
   "cell_type": "markdown",
   "id": "816a2bfb",
   "metadata": {},
   "source": [
    "Let's see what other string functions are available, using tab completion after str.:"
   ]
  },
  {
   "cell_type": "code",
   "execution_count": null,
   "id": "52106b4b",
   "metadata": {},
   "outputs": [],
   "source": [
    "str."
   ]
  },
  {
   "cell_type": "markdown",
   "id": "0ef452b3",
   "metadata": {},
   "source": [
    "Some of these function names are pretty self-explanatory, like 'capitalize', but others are less so.  As usual, you can look up some quick help on any of those functions:"
   ]
  },
  {
   "cell_type": "code",
   "execution_count": 35,
   "id": "b6e66357",
   "metadata": {},
   "outputs": [
    {
     "data": {
      "text/plain": [
       "\u001b[1;31mSignature:\u001b[0m \u001b[0mstr\u001b[0m\u001b[1;33m.\u001b[0m\u001b[0mexpandtabs\u001b[0m\u001b[1;33m(\u001b[0m\u001b[0mself\u001b[0m\u001b[1;33m,\u001b[0m \u001b[1;33m/\u001b[0m\u001b[1;33m,\u001b[0m \u001b[0mtabsize\u001b[0m\u001b[1;33m=\u001b[0m\u001b[1;36m8\u001b[0m\u001b[1;33m)\u001b[0m\u001b[1;33m\u001b[0m\u001b[1;33m\u001b[0m\u001b[0m\n",
       "\u001b[1;31mDocstring:\u001b[0m\n",
       "Return a copy where all tab characters are expanded using spaces.\n",
       "\n",
       "If tabsize is not given, a tab size of 8 characters is assumed.\n",
       "\u001b[1;31mType:\u001b[0m      method_descriptor\n"
      ]
     },
     "metadata": {},
     "output_type": "display_data"
    }
   ],
   "source": [
    "str.expandtabs?"
   ]
  },
  {
   "cell_type": "markdown",
   "id": "7c72c25d",
   "metadata": {},
   "source": [
    "Note that since we assigned a string to a variable, a, that variable is now an object of type string, and it has access to the string methods directly:"
   ]
  },
  {
   "cell_type": "code",
   "execution_count": 36,
   "id": "998cf7da",
   "metadata": {},
   "outputs": [
    {
     "name": "stdout",
     "output_type": "stream",
     "text": [
      "This is CP255!\n"
     ]
    },
    {
     "data": {
      "text/plain": [
       "0"
      ]
     },
     "execution_count": 36,
     "metadata": {},
     "output_type": "execute_result"
    }
   ],
   "source": [
    "print(a)\n",
    "a.find('T')"
   ]
  },
  {
   "cell_type": "markdown",
   "id": "cf34cf3b",
   "metadata": {},
   "source": [
    "We can check whether a string contains a character or substring:"
   ]
  },
  {
   "cell_type": "code",
   "execution_count": 41,
   "id": "18b4850b",
   "metadata": {},
   "outputs": [
    {
     "data": {
      "text/plain": [
       "False"
      ]
     },
     "execution_count": 41,
     "metadata": {},
     "output_type": "execute_result"
    }
   ],
   "source": [
    "'R' in a"
   ]
  },
  {
   "cell_type": "markdown",
   "id": "8788a620",
   "metadata": {},
   "source": [
    "We can remove specific characters in a string with the strip method:"
   ]
  },
  {
   "cell_type": "code",
   "execution_count": null,
   "id": "cfdad725",
   "metadata": {},
   "outputs": [],
   "source": [
    "a.strip('!')"
   ]
  },
  {
   "cell_type": "markdown",
   "id": "29dbecdb",
   "metadata": {},
   "source": [
    "To remove any leading and trailing spaces from a string, just use the strip function with no argument:"
   ]
  },
  {
   "cell_type": "code",
   "execution_count": 40,
   "id": "2f69b0d7",
   "metadata": {},
   "outputs": [
    {
     "name": "stdout",
     "output_type": "stream",
     "text": [
      " This is CP255!\n",
      "This is CP255!\n"
     ]
    }
   ],
   "source": [
    "b = ' ' + a\n",
    "print(b)\n",
    "print(b.strip())"
   ]
  },
  {
   "cell_type": "markdown",
   "id": "8916d335",
   "metadata": {},
   "source": [
    "It is often helpful to put several operations together on one line, nesting them.  Going from left to right, we first take the values from the 8th index value to the end of the string, and then we strip the '!' from that result, and then we capitalize the result:"
   ]
  },
  {
   "cell_type": "code",
   "execution_count": 41,
   "id": "897b2536",
   "metadata": {},
   "outputs": [
    {
     "data": {
      "text/plain": [
       "'cp255'"
      ]
     },
     "execution_count": 41,
     "metadata": {},
     "output_type": "execute_result"
    }
   ],
   "source": [
    "a[8:].strip('!').lower()"
   ]
  },
  {
   "cell_type": "markdown",
   "id": "1cd16431",
   "metadata": {},
   "source": [
    "Another handy function lets you capitalize each word:"
   ]
  },
  {
   "cell_type": "code",
   "execution_count": 42,
   "id": "c59c9156",
   "metadata": {},
   "outputs": [
    {
     "data": {
      "text/plain": [
       "'This Is Cp255!'"
      ]
     },
     "execution_count": 42,
     "metadata": {},
     "output_type": "execute_result"
    }
   ],
   "source": [
    "a.title()"
   ]
  },
  {
   "cell_type": "markdown",
   "id": "697ff68d",
   "metadata": {},
   "source": [
    "Note that we cannot assign a new letter to part of the string by its index location.  This is because in Python, strings are an **immutable** data type.  As we will see shortly, other data types like lists are **mutable**."
   ]
  },
  {
   "cell_type": "code",
   "execution_count": 44,
   "id": "1e0a2b4b",
   "metadata": {},
   "outputs": [],
   "source": [
    "a[0] = 't'"
   ]
  },
  {
   "cell_type": "markdown",
   "id": "9999b857",
   "metadata": {},
   "source": [
    "There is a function that will let you replace string values, however:"
   ]
  },
  {
   "cell_type": "code",
   "execution_count": 45,
   "id": "337dbced",
   "metadata": {},
   "outputs": [
    {
     "name": "stdout",
     "output_type": "stream",
     "text": [
      "This is CP255!\n",
      "This is CP255?\n"
     ]
    }
   ],
   "source": [
    "print(a)\n",
    "print(a.replace('!', '?'))"
   ]
  },
  {
   "cell_type": "markdown",
   "id": "57901ddd",
   "metadata": {},
   "source": [
    "We can also convert strings to lists of strings by splitting on a delimeter:"
   ]
  },
  {
   "cell_type": "code",
   "execution_count": 49,
   "id": "f65d57ec",
   "metadata": {},
   "outputs": [
    {
     "data": {
      "text/plain": [
       "['lastname', 'firstname', 'streetnumber', 'streetname', 'city']"
      ]
     },
     "execution_count": 49,
     "metadata": {},
     "output_type": "execute_result"
    }
   ],
   "source": [
    "c = 'lastname,firstname,streetnumber,streetname,city'\n",
    "c.split(',')"
   ]
  },
  {
   "cell_type": "code",
   "execution_count": 50,
   "id": "ba29dc5e",
   "metadata": {},
   "outputs": [
    {
     "data": {
      "text/plain": [
       "'lastname'"
      ]
     },
     "execution_count": 50,
     "metadata": {},
     "output_type": "execute_result"
    }
   ],
   "source": [
    "c.split(',')[0]"
   ]
  },
  {
   "cell_type": "markdown",
   "id": "cc17180f",
   "metadata": {},
   "source": [
    "## Converting between string and numeric types"
   ]
  },
  {
   "cell_type": "code",
   "execution_count": 51,
   "id": "ac8a33c2",
   "metadata": {},
   "outputs": [
    {
     "data": {
      "text/plain": [
       "str"
      ]
     },
     "execution_count": 51,
     "metadata": {},
     "output_type": "execute_result"
    }
   ],
   "source": [
    "rent = '2500'\n",
    "type(rent)"
   ]
  },
  {
   "cell_type": "markdown",
   "id": "cbf6e356",
   "metadata": {},
   "source": [
    "Let's say we have a string object that contains numeric values and we want to do mathematical operations on it.  What happens?"
   ]
  },
  {
   "cell_type": "code",
   "execution_count": 52,
   "id": "7f9e3ba3",
   "metadata": {},
   "outputs": [
    {
     "data": {
      "text/plain": [
       "'25002500'"
      ]
     },
     "execution_count": 52,
     "metadata": {},
     "output_type": "execute_result"
    }
   ],
   "source": [
    "rent * 2"
   ]
  },
  {
   "cell_type": "code",
   "execution_count": 54,
   "id": "075f5503",
   "metadata": {},
   "outputs": [],
   "source": [
    "rent * 1.5"
   ]
  },
  {
   "cell_type": "markdown",
   "id": "9c659ae5",
   "metadata": {},
   "source": [
    "If we need to do mathematical operations, we really need to convert this string object to a numeric type -- either an integer or a float."
   ]
  },
  {
   "cell_type": "code",
   "execution_count": 55,
   "id": "47821bf9",
   "metadata": {},
   "outputs": [
    {
     "data": {
      "text/plain": [
       "int"
      ]
     },
     "execution_count": 55,
     "metadata": {},
     "output_type": "execute_result"
    }
   ],
   "source": [
    "rent_int = int(rent)\n",
    "type(rent_int)"
   ]
  },
  {
   "cell_type": "code",
   "execution_count": 56,
   "id": "a6100651",
   "metadata": {},
   "outputs": [
    {
     "data": {
      "text/plain": [
       "5000"
      ]
     },
     "execution_count": 56,
     "metadata": {},
     "output_type": "execute_result"
    }
   ],
   "source": [
    "rent_int * 2"
   ]
  },
  {
   "cell_type": "code",
   "execution_count": 57,
   "id": "43e59e2e",
   "metadata": {},
   "outputs": [
    {
     "data": {
      "text/plain": [
       "2500.0"
      ]
     },
     "execution_count": 57,
     "metadata": {},
     "output_type": "execute_result"
    }
   ],
   "source": [
    "rent_float = float(rent)\n",
    "rent_float"
   ]
  },
  {
   "cell_type": "markdown",
   "id": "f0236b28",
   "metadata": {},
   "source": [
    "Recall that you can also convert an integer to a float by a mathematical operation that involves a floating point component so that the result is forced to type float:"
   ]
  },
  {
   "cell_type": "code",
   "execution_count": 58,
   "id": "f45b18de",
   "metadata": {},
   "outputs": [
    {
     "data": {
      "text/plain": [
       "3750.0"
      ]
     },
     "execution_count": 58,
     "metadata": {},
     "output_type": "execute_result"
    }
   ],
   "source": [
    "rent_flt = rent_int * 1.5\n",
    "rent_flt"
   ]
  },
  {
   "cell_type": "markdown",
   "id": "0463a796",
   "metadata": {},
   "source": [
    "But notice that the int method won't convert a string that looks like a floating point number:"
   ]
  },
  {
   "cell_type": "code",
   "execution_count": 60,
   "id": "575c31e1",
   "metadata": {},
   "outputs": [],
   "source": [
    "rent_i = int('2500.0')"
   ]
  },
  {
   "cell_type": "markdown",
   "id": "552ed0a3",
   "metadata": {},
   "source": [
    "But you can do this if you first convert to float and then convert to int:"
   ]
  },
  {
   "cell_type": "code",
   "execution_count": 61,
   "id": "1a3d4d02",
   "metadata": {},
   "outputs": [
    {
     "name": "stdout",
     "output_type": "stream",
     "text": [
      "2500\n"
     ]
    },
    {
     "data": {
      "text/plain": [
       "int"
      ]
     },
     "execution_count": 61,
     "metadata": {},
     "output_type": "execute_result"
    }
   ],
   "source": [
    "rent_i = int(float('2500.0'))\n",
    "print(rent_i)\n",
    "type(rent_i)"
   ]
  },
  {
   "cell_type": "markdown",
   "id": "8bda441a",
   "metadata": {},
   "source": [
    "Of course, you sometimes may need to convert data from numeric to string type.  It works the same way:"
   ]
  },
  {
   "cell_type": "code",
   "execution_count": 62,
   "id": "9273b22f",
   "metadata": {},
   "outputs": [
    {
     "data": {
      "text/plain": [
       "'2500'"
      ]
     },
     "execution_count": 62,
     "metadata": {},
     "output_type": "execute_result"
    }
   ],
   "source": [
    "rent_str = str(rent_int)\n",
    "rent_str"
   ]
  },
  {
   "cell_type": "markdown",
   "id": "c27830ac",
   "metadata": {},
   "source": [
    "## Lists"
   ]
  },
  {
   "cell_type": "markdown",
   "id": "2b320053",
   "metadata": {},
   "source": [
    "You can think of strings as an ordered list of characters.  In Python, **lists** are another basic data type. Lists can contain any kind of object: strings, integers, floats, and others -- in any combination.  The syntax for lists is to include them as a sequence separated by commas, and enclosed in square brackets.  \n",
    "\n",
    "### Creating Lists\n",
    "\n",
    "We can create an empty list, and add elements to it:"
   ]
  },
  {
   "cell_type": "code",
   "execution_count": 63,
   "id": "a8e7d845",
   "metadata": {},
   "outputs": [],
   "source": [
    "mylist = []\n",
    "mylist.append('this')"
   ]
  },
  {
   "cell_type": "code",
   "execution_count": 64,
   "id": "e7a81d3b",
   "metadata": {},
   "outputs": [
    {
     "data": {
      "text/plain": [
       "['this']"
      ]
     },
     "execution_count": 64,
     "metadata": {},
     "output_type": "execute_result"
    }
   ],
   "source": [
    "mylist"
   ]
  },
  {
   "cell_type": "markdown",
   "id": "ecba9c92",
   "metadata": {},
   "source": [
    "Notice that we can add lists, like we can add strings, to contatenate them:"
   ]
  },
  {
   "cell_type": "code",
   "execution_count": 65,
   "id": "6561243f",
   "metadata": {},
   "outputs": [
    {
     "data": {
      "text/plain": [
       "['this', 'that']"
      ]
     },
     "execution_count": 65,
     "metadata": {},
     "output_type": "execute_result"
    }
   ],
   "source": [
    "# Besides using append as above, we can use + to add a list to a list, in this case we are adding a list with 1 item\n",
    "mylist = mylist + ['that']\n",
    "mylist"
   ]
  },
  {
   "cell_type": "code",
   "execution_count": 66,
   "id": "5add2862",
   "metadata": {},
   "outputs": [
    {
     "data": {
      "text/plain": [
       "['this', 'and', 'that']"
      ]
     },
     "execution_count": 66,
     "metadata": {},
     "output_type": "execute_result"
    }
   ],
   "source": [
    "# We can also insert items in a specified location in a list\n",
    "mylist.insert(1, 'and')\n",
    "mylist"
   ]
  },
  {
   "cell_type": "markdown",
   "id": "5f8f9224",
   "metadata": {},
   "source": [
    "We can also convert a string that might be a sentence, or a line of data, to a list, so we can work with its elements more easily:"
   ]
  },
  {
   "cell_type": "code",
   "execution_count": 68,
   "id": "6f22064a",
   "metadata": {},
   "outputs": [
    {
     "name": "stdout",
     "output_type": "stream",
     "text": [
      "a =  This is CP255!\n",
      "b =  ['This', 'is', 'CP255!']\n"
     ]
    }
   ],
   "source": [
    "a = 'This is CP255!'\n",
    "print('a = ', a)\n",
    "b = str.split(a)\n",
    "print('b = ', b)"
   ]
  },
  {
   "cell_type": "code",
   "execution_count": 73,
   "id": "52216a7a",
   "metadata": {},
   "outputs": [
    {
     "data": {
      "text/plain": [
       "['This', 'is', 'CP255!']"
      ]
     },
     "execution_count": 73,
     "metadata": {},
     "output_type": "execute_result"
    }
   ],
   "source": [
    "# And recalling that a is a string object, we can use the split function directly on a \n",
    "a.split()"
   ]
  },
  {
   "cell_type": "markdown",
   "id": "5131e301",
   "metadata": {},
   "source": [
    "### Indexing Lists\n",
    "\n",
    "Note that indexing works for lists like it does for strings.  And if you have a list of strings, you can index into both in a nested way."
   ]
  },
  {
   "cell_type": "code",
   "execution_count": 74,
   "id": "0216ca1b",
   "metadata": {},
   "outputs": [
    {
     "data": {
      "text/plain": [
       "'this'"
      ]
     },
     "execution_count": 74,
     "metadata": {},
     "output_type": "execute_result"
    }
   ],
   "source": [
    "# What is the content of the first item in the list?\n",
    "mylist[0]"
   ]
  },
  {
   "cell_type": "code",
   "execution_count": 75,
   "id": "9e3c78b5",
   "metadata": {},
   "outputs": [
    {
     "data": {
      "text/plain": [
       "'that'"
      ]
     },
     "execution_count": 75,
     "metadata": {},
     "output_type": "execute_result"
    }
   ],
   "source": [
    "# What is the content of the last item in the list? We can use the index value -1 to get the last item\n",
    "mylist[-1]"
   ]
  },
  {
   "cell_type": "markdown",
   "id": "50327258",
   "metadata": {},
   "source": [
    "To get a range of values from a list, use a slice of the index values: [0:2] would get the first through the 2nd entry, since the range goes up to, but does not include, the value of the index after the colon."
   ]
  },
  {
   "cell_type": "code",
   "execution_count": 76,
   "id": "e43a246b",
   "metadata": {},
   "outputs": [
    {
     "data": {
      "text/plain": [
       "['this', 'and']"
      ]
     },
     "execution_count": 76,
     "metadata": {},
     "output_type": "execute_result"
    }
   ],
   "source": [
    "mylist[0:2]"
   ]
  },
  {
   "cell_type": "code",
   "execution_count": 77,
   "id": "8c4c34f0",
   "metadata": {},
   "outputs": [
    {
     "data": {
      "text/plain": [
       "'a'"
      ]
     },
     "execution_count": 77,
     "metadata": {},
     "output_type": "execute_result"
    }
   ],
   "source": [
    "# How would we find the first character of the second word in our list?  We can 'nest' the indexing like this:\n",
    "mylist[1][0]"
   ]
  },
  {
   "cell_type": "markdown",
   "id": "0d763f31",
   "metadata": {},
   "source": [
    "### Working with Lists"
   ]
  },
  {
   "cell_type": "markdown",
   "id": "30169ff7",
   "metadata": {},
   "source": [
    "What functions are available for list objects?"
   ]
  },
  {
   "cell_type": "code",
   "execution_count": null,
   "id": "dacfc41b",
   "metadata": {},
   "outputs": [],
   "source": [
    "list."
   ]
  },
  {
   "cell_type": "code",
   "execution_count": 78,
   "id": "bfa3ab7e",
   "metadata": {},
   "outputs": [
    {
     "data": {
      "text/plain": [
       "3"
      ]
     },
     "execution_count": 78,
     "metadata": {},
     "output_type": "execute_result"
    }
   ],
   "source": [
    "# Find out the length of a list using len\n",
    "len(mylist)"
   ]
  },
  {
   "cell_type": "code",
   "execution_count": 79,
   "id": "74aceeb7",
   "metadata": {},
   "outputs": [
    {
     "data": {
      "text/plain": [
       "2"
      ]
     },
     "execution_count": 79,
     "metadata": {},
     "output_type": "execute_result"
    }
   ],
   "source": [
    "# Let's count the number of times we encounter a character in the list, or a word\n",
    "a.count('5')"
   ]
  },
  {
   "cell_type": "markdown",
   "id": "403f3689",
   "metadata": {},
   "source": [
    "You can check whether a list contains an item, just as we did with strings."
   ]
  },
  {
   "cell_type": "code",
   "execution_count": 81,
   "id": "1e131b7f",
   "metadata": {},
   "outputs": [
    {
     "data": {
      "text/plain": [
       "True"
      ]
     },
     "execution_count": 81,
     "metadata": {},
     "output_type": "execute_result"
    }
   ],
   "source": [
    "'this' in mylist"
   ]
  },
  {
   "cell_type": "code",
   "execution_count": 82,
   "id": "4dead7b8",
   "metadata": {},
   "outputs": [
    {
     "data": {
      "text/plain": [
       "['this', 'and']"
      ]
     },
     "execution_count": 82,
     "metadata": {},
     "output_type": "execute_result"
    }
   ],
   "source": [
    "# Delete the 3rd item in the list (remember it is indexed from 0). Let's make a copy of the list first\n",
    "# since del is an inplace deletion\n",
    "shortlist = mylist\n",
    "del(shortlist[2])\n",
    "shortlist"
   ]
  },
  {
   "cell_type": "markdown",
   "id": "e6447528",
   "metadata": {},
   "source": [
    "Remember that strings are immutable and we were unable to directly substitute a value of a character based on its index position?  Well, **lists are mutable**, and it does work to replace a value directly by its index value:"
   ]
  },
  {
   "cell_type": "code",
   "execution_count": 83,
   "id": "23b6a4e5",
   "metadata": {},
   "outputs": [
    {
     "data": {
      "text/plain": [
       "['This', 'is', 'mutable!']"
      ]
     },
     "execution_count": 83,
     "metadata": {},
     "output_type": "execute_result"
    }
   ],
   "source": [
    "b[2] = 'mutable!'\n",
    "b"
   ]
  },
  {
   "cell_type": "markdown",
   "id": "681b0c11",
   "metadata": {},
   "source": [
    "and we can put the list of strings together again to make a string from a list, inserting a space between each element:"
   ]
  },
  {
   "cell_type": "code",
   "execution_count": 84,
   "id": "4dcc5451",
   "metadata": {},
   "outputs": [
    {
     "data": {
      "text/plain": [
       "'This is mutable!'"
      ]
     },
     "execution_count": 84,
     "metadata": {},
     "output_type": "execute_result"
    }
   ],
   "source": [
    "c = str.join(' ',b)\n",
    "c"
   ]
  },
  {
   "cell_type": "markdown",
   "id": "23c6cc8e",
   "metadata": {},
   "source": [
    "We can reverse the order of the items in a list. Notice that this is an in place operation.  Try it twice."
   ]
  },
  {
   "cell_type": "code",
   "execution_count": 85,
   "id": "2a8bf2b8",
   "metadata": {},
   "outputs": [
    {
     "data": {
      "text/plain": [
       "['mutable!', 'is', 'This']"
      ]
     },
     "execution_count": 85,
     "metadata": {},
     "output_type": "execute_result"
    }
   ],
   "source": [
    "b.reverse()\n",
    "b"
   ]
  },
  {
   "cell_type": "markdown",
   "id": "d8e8e873",
   "metadata": {},
   "source": [
    "We can use the sort function to order the list.  Let's try it with a list of numbers first."
   ]
  },
  {
   "cell_type": "code",
   "execution_count": 86,
   "id": "c0557f6b",
   "metadata": {},
   "outputs": [
    {
     "data": {
      "text/plain": [
       "[1, 3, 4, 5, 6, 8]"
      ]
     },
     "execution_count": 86,
     "metadata": {},
     "output_type": "execute_result"
    }
   ],
   "source": [
    "nums = [1, 3, 4, 5, 8, 6]\n",
    "nums.sort()\n",
    "nums"
   ]
  },
  {
   "cell_type": "code",
   "execution_count": 87,
   "id": "b41376be",
   "metadata": {},
   "outputs": [
    {
     "data": {
      "text/plain": [
       "[8, 6, 5, 4, 3, 1]"
      ]
     },
     "execution_count": 87,
     "metadata": {},
     "output_type": "execute_result"
    }
   ],
   "source": [
    "nums.reverse()\n",
    "nums"
   ]
  },
  {
   "cell_type": "markdown",
   "id": "96ceefbc",
   "metadata": {},
   "source": [
    "And now with a list of words."
   ]
  },
  {
   "cell_type": "code",
   "execution_count": 91,
   "id": "b0bcfcc6",
   "metadata": {},
   "outputs": [
    {
     "name": "stdout",
     "output_type": "stream",
     "text": [
      "['A', 'apple', 'big', 'pie']\n"
     ]
    }
   ],
   "source": [
    "words = ['A', 'big', 'apple', 'pie']\n",
    "words.sort()\n",
    "print(words)"
   ]
  },
  {
   "cell_type": "markdown",
   "id": "fdbfc14a",
   "metadata": {},
   "source": [
    "Note that -1 indexes the last item in a list"
   ]
  },
  {
   "cell_type": "code",
   "execution_count": 92,
   "id": "9841e3a1",
   "metadata": {},
   "outputs": [
    {
     "data": {
      "text/plain": [
       "'pie'"
      ]
     },
     "execution_count": 92,
     "metadata": {},
     "output_type": "execute_result"
    }
   ],
   "source": [
    "words[-1]"
   ]
  },
  {
   "cell_type": "markdown",
   "id": "83c7c3cf",
   "metadata": {},
   "source": [
    "and that nesting a second, or nested, index slices into the string in an item in a list"
   ]
  },
  {
   "cell_type": "code",
   "execution_count": 93,
   "id": "4af0b377",
   "metadata": {},
   "outputs": [
    {
     "data": {
      "text/plain": [
       "'pi'"
      ]
     },
     "execution_count": 93,
     "metadata": {},
     "output_type": "execute_result"
    }
   ],
   "source": [
    "words[-1][:-1]"
   ]
  },
  {
   "cell_type": "markdown",
   "id": "ecee1f74",
   "metadata": {},
   "source": [
    "There is a range function that is often helpful in creating a list of integers.  It requires one argument (the length of the range) but can optionally accept arguments for the start, end, and step size of the range."
   ]
  },
  {
   "cell_type": "code",
   "execution_count": 94,
   "id": "87aae58a",
   "metadata": {},
   "outputs": [
    {
     "name": "stdout",
     "output_type": "stream",
     "text": [
      "[0, 1, 2, 3, 4, 5, 6, 7, 8, 9]\n"
     ]
    }
   ],
   "source": [
    "a = list(range(10))\n",
    "print(a)"
   ]
  },
  {
   "cell_type": "code",
   "execution_count": 95,
   "id": "d88cc873",
   "metadata": {},
   "outputs": [
    {
     "name": "stdout",
     "output_type": "stream",
     "text": [
      "[1, 2, 3, 4]\n"
     ]
    }
   ],
   "source": [
    "b = list(range(1,5))\n",
    "print(b)"
   ]
  },
  {
   "cell_type": "code",
   "execution_count": 96,
   "id": "28598a14",
   "metadata": {},
   "outputs": [
    {
     "name": "stdout",
     "output_type": "stream",
     "text": [
      "[10, 15, 20, 25, 30, 35, 40, 45, 50, 55, 60, 65, 70, 75, 80, 85, 90, 95]\n"
     ]
    }
   ],
   "source": [
    "c = list(range(10,100,5))\n",
    "print(c)"
   ]
  },
  {
   "cell_type": "code",
   "execution_count": 97,
   "id": "b8bcb757",
   "metadata": {},
   "outputs": [
    {
     "data": {
      "text/plain": [
       "range(10, 100, 5)"
      ]
     },
     "execution_count": 97,
     "metadata": {},
     "output_type": "execute_result"
    }
   ],
   "source": [
    "# Why did we use the 'list' method combined with 'range'?  Let's see what 'range' does by itself.\n",
    "range(10,100,5)"
   ]
  },
  {
   "cell_type": "code",
   "execution_count": 98,
   "id": "84e465fa",
   "metadata": {},
   "outputs": [
    {
     "data": {
      "text/plain": [
       "range"
      ]
     },
     "execution_count": 98,
     "metadata": {},
     "output_type": "execute_result"
    }
   ],
   "source": [
    "# It creates a special 'range' object\n",
    "a = range(10)\n",
    "type(a)"
   ]
  },
  {
   "cell_type": "markdown",
   "id": "36c2b577",
   "metadata": {},
   "source": [
    "But the Python 'range' method is very helpful in a lot of contexts, including these simple examples used to create a list"
   ]
  },
  {
   "cell_type": "markdown",
   "id": "f2443edd",
   "metadata": {},
   "source": [
    "### Practice: Creating and Sorting List ###\n",
    "Write code that creates a list with even numbers from 0 to 100 (including 100) and print the result in reverse order. \n"
   ]
  },
  {
   "cell_type": "code",
   "execution_count": null,
   "id": "24739515",
   "metadata": {},
   "outputs": [],
   "source": []
  },
  {
   "cell_type": "markdown",
   "id": "57934330",
   "metadata": {},
   "source": [
    "### Practice: Inserting Elements in a List\n",
    "Write code that add the name \"Norah\" to the following list, after the name \"Mike\" names= ['Akshara','Anna','Aqshems','Chester','Echo','James','Jessica','Matthew','Michael','Philip','Sarah']"
   ]
  },
  {
   "cell_type": "code",
   "execution_count": null,
   "id": "6c1cd679",
   "metadata": {},
   "outputs": [],
   "source": []
  },
  {
   "cell_type": "markdown",
   "id": "8bf1584a",
   "metadata": {},
   "source": [
    "### Practice: List Indexing##\n",
    "\n",
    "Let's say we have a list called 'thing' containing the integers from 1 to 7 and we have variables low = 2 and high=5:\n",
    "\n",
    "For each operation below, first think about what you think the answer will be, then write it as code in the cell below and confirm that it does what you expected. For readibility add one cell at a time and execute it, starting by creating a list called 'thing' with the integer values 1...7, and variables low and high with values 2 and 5. Then answer each question below.\n",
    "\n",
    "1- What does thing[low:high] do?\n",
    "\n",
    "2- What does thing[low:] (without a value after the colon) do?\n",
    "\n",
    "3- What does thing[:high] (without a value before the colon) do?\n",
    "\n",
    "4- What does thing[-1] (just a colon) do?\n",
    "\n",
    "5- What does thing[:-1] (just a colon) do?\n",
    "\n",
    "6- What does thing[:] (just a colon) do?\n",
    "\n",
    "7- How long is the list thing[low:high]?\n",
    "\n"
   ]
  },
  {
   "cell_type": "code",
   "execution_count": null,
   "id": "e064065d",
   "metadata": {},
   "outputs": [],
   "source": [
    "#start by creating a list called 'thing' with the integers from 1 to 7, without typing them into a list\n"
   ]
  },
  {
   "cell_type": "code",
   "execution_count": null,
   "id": "7b30eb5a",
   "metadata": {},
   "outputs": [],
   "source": []
  },
  {
   "cell_type": "markdown",
   "id": "f9edd3d1",
   "metadata": {},
   "source": [
    "## Tuples\n",
    "\n",
    "Continuing from numeric types, strings and lists, we now cover three more useful data types in Python: tuples, dictionaries, and arrays.  We will cover how to create them, what they are used for, and how to use some of their methods.\n",
    "\n",
    "Tuples are like lists, but are **immutable**.  The syntax is similar except tuples use parentheses instead of square brackets."
   ]
  },
  {
   "cell_type": "code",
   "execution_count": 99,
   "id": "a73b31e8",
   "metadata": {},
   "outputs": [
    {
     "name": "stdout",
     "output_type": "stream",
     "text": [
      "('a', 'b', 'c')\n"
     ]
    }
   ],
   "source": [
    "d = ('a', 'b', 'c')\n",
    "print(d)"
   ]
  },
  {
   "cell_type": "code",
   "execution_count": 101,
   "id": "3dcfe1f7",
   "metadata": {
    "scrolled": true
   },
   "outputs": [],
   "source": [
    "d[2] = 'z'"
   ]
  },
  {
   "cell_type": "markdown",
   "id": "40572f33",
   "metadata": {},
   "source": [
    "See?  It really is immutable.  You'll just get a traceback if you try.  Use immutables only when you don't want to allow them to be modified."
   ]
  },
  {
   "cell_type": "code",
   "execution_count": 103,
   "id": "49a0bafa",
   "metadata": {},
   "outputs": [],
   "source": [
    "d.remove['c']"
   ]
  },
  {
   "cell_type": "markdown",
   "id": "bd0cb9c5",
   "metadata": {},
   "source": [
    "If you want to remove an element or update it, you could translate the tuple back to a list first."
   ]
  },
  {
   "cell_type": "code",
   "execution_count": 107,
   "id": "5fed28cd",
   "metadata": {
    "scrolled": true
   },
   "outputs": [],
   "source": [
    "print(d)\n",
    "e = list(d)\n",
    "e.remove('c')\n",
    "print(e)"
   ]
  },
  {
   "cell_type": "markdown",
   "id": "a050d0e7",
   "metadata": {},
   "source": [
    "But notice that e is a list, not a tuple.  If we want the result to be a tuple, we have to convert it back from a list."
   ]
  },
  {
   "cell_type": "code",
   "execution_count": 108,
   "id": "02cdfdbc",
   "metadata": {},
   "outputs": [
    {
     "name": "stdout",
     "output_type": "stream",
     "text": [
      "('a', 'b')\n"
     ]
    }
   ],
   "source": [
    "f = tuple(e)\n",
    "print(f)"
   ]
  },
  {
   "cell_type": "markdown",
   "id": "4653a8ff",
   "metadata": {},
   "source": [
    "The zip function takes two equal-length collections (like lists) and combines them element by element to create tuples of the pairs with the same index value. Here we create two lists of integers and zip them to create a list of tuples:"
   ]
  },
  {
   "cell_type": "code",
   "execution_count": 109,
   "id": "95ca99b7",
   "metadata": {},
   "outputs": [
    {
     "name": "stdout",
     "output_type": "stream",
     "text": [
      "[(1, 4), (2, 5), (3, 6)]\n"
     ]
    }
   ],
   "source": [
    "x = [1,2,3]\n",
    "y = [4,5,6]\n",
    "zipped = zip(x,y)\n",
    "print(list(zipped))"
   ]
  },
  {
   "cell_type": "markdown",
   "id": "f03f907e",
   "metadata": {},
   "source": [
    "## Dictionaries\n",
    "\n",
    "A Dictionary (or \"dict\") is a way to store data just like a list, but instead of using only numbers to get the data, you can use almost anything. This lets you treat a dict like it's a database for storing and organizing data.\n",
    "\n",
    "A python dictionary is a collection of key, value pairs. The **key** is a way to name the data, and the **value** is the data itself. \n",
    "\n",
    "Dictionaries are a very handy data type that can be used to manage data you need to look up by a key.  Dictionaries are unordered key - value pairs, separated by a colon.  They are much more general than the word : definition kind of pairing, since the value can be many different kinds of objects.  The syntax in this case identifies a dictionary with curly braces, containing lists of key-value pairs. "
   ]
  },
  {
   "cell_type": "markdown",
   "id": "20ae6c1e",
   "metadata": {},
   "source": [
    "### Creating Dictionaries\n"
   ]
  },
  {
   "cell_type": "markdown",
   "id": "a4d56d56",
   "metadata": {},
   "source": [
    "There are a few different ways to create dictionaries.  The first two create an empty dictionary."
   ]
  },
  {
   "cell_type": "code",
   "execution_count": 110,
   "id": "cec9c821",
   "metadata": {},
   "outputs": [],
   "source": [
    "newdict = {}"
   ]
  },
  {
   "cell_type": "code",
   "execution_count": 111,
   "id": "8aa5ebc4",
   "metadata": {},
   "outputs": [],
   "source": [
    "newdict=dict()"
   ]
  },
  {
   "cell_type": "markdown",
   "id": "0ed28aa8",
   "metadata": {},
   "source": [
    "Another way to create a dictionary is to provide key: value pairs in a list, and put these into curly brackets:"
   ]
  },
  {
   "cell_type": "code",
   "execution_count": 112,
   "id": "ce45f0e6",
   "metadata": {},
   "outputs": [
    {
     "name": "stdout",
     "output_type": "stream",
     "text": [
      "{'hot': 'cold', 'fast': 'slow', 'good': 'bad'}\n"
     ]
    }
   ],
   "source": [
    "antonyms = {'hot': 'cold', 'fast': 'slow', 'good': 'bad'}\n",
    "print(antonyms)"
   ]
  },
  {
   "cell_type": "markdown",
   "id": "d4a7e782",
   "metadata": {},
   "source": [
    "We can then add items to a dictionary using update, or assigning a value to a new key:"
   ]
  },
  {
   "cell_type": "code",
   "execution_count": 113,
   "id": "4d986298",
   "metadata": {},
   "outputs": [],
   "source": [
    "newdict.update({'new': 'item'})"
   ]
  },
  {
   "cell_type": "code",
   "execution_count": 114,
   "id": "319b1f5d",
   "metadata": {},
   "outputs": [],
   "source": [
    "newdict[\"next\"] = \"thing\""
   ]
  },
  {
   "cell_type": "code",
   "execution_count": 115,
   "id": "3ea79fd6",
   "metadata": {},
   "outputs": [
    {
     "data": {
      "text/plain": [
       "{'new': 'item', 'next': 'thing'}"
      ]
     },
     "execution_count": 115,
     "metadata": {},
     "output_type": "execute_result"
    }
   ],
   "source": [
    "newdict"
   ]
  },
  {
   "cell_type": "markdown",
   "id": "64e334a1",
   "metadata": {},
   "source": [
    "Another way to do create a dictionary is by converting lists.  This is a convenient thing to do with real data that comes from files, compared to the simple data we are using here.  The zip function is a bit advanced -- we will come back to it later when we talk about loops and iterables.  For now, just understand that it creates an iterable (think list) of tuples, containing the paired entries from the Keys and Values lists.\n",
    "\n",
    "Notice that we can use the zip function to combine the keys and values to make the dictionary, making tuples of key-value pairs:"
   ]
  },
  {
   "cell_type": "code",
   "execution_count": 119,
   "id": "ecb39254",
   "metadata": {},
   "outputs": [
    {
     "name": "stdout",
     "output_type": "stream",
     "text": [
      "{'hot': 'cold', 'fast': 'slow', 'good': 'bad'}\n"
     ]
    }
   ],
   "source": [
    "Keys = ['hot', 'fast', 'good']\n",
    "Values = ['cold', 'slow', 'bad']\n",
    "antonyms2 = dict(zip(Keys,Values))\n",
    "print(antonyms2)"
   ]
  },
  {
   "cell_type": "markdown",
   "id": "410a4f1f",
   "metadata": {},
   "source": [
    "### Working with Dictionaries\n",
    "As usual, find the functions available for this class by using its name, dot, and tab:"
   ]
  },
  {
   "cell_type": "code",
   "execution_count": null,
   "id": "ca9be5cc",
   "metadata": {},
   "outputs": [],
   "source": [
    "dict."
   ]
  },
  {
   "cell_type": "markdown",
   "id": "56b88fdf",
   "metadata": {},
   "source": [
    "We can retrieve the value of any dictionary entry by its key:"
   ]
  },
  {
   "cell_type": "code",
   "execution_count": 120,
   "id": "5ca519d4",
   "metadata": {},
   "outputs": [
    {
     "data": {
      "text/plain": [
       "'cold'"
      ]
     },
     "execution_count": 120,
     "metadata": {},
     "output_type": "execute_result"
    }
   ],
   "source": [
    "antonyms['hot']"
   ]
  },
  {
   "cell_type": "code",
   "execution_count": 121,
   "id": "facca664",
   "metadata": {},
   "outputs": [
    {
     "data": {
      "text/plain": [
       "'cold'"
      ]
     },
     "execution_count": 121,
     "metadata": {},
     "output_type": "execute_result"
    }
   ],
   "source": [
    "antonyms.get('hot')"
   ]
  },
  {
   "cell_type": "markdown",
   "id": "8c663efa",
   "metadata": {},
   "source": [
    "We can get the length, keys, and values of a dictionary:"
   ]
  },
  {
   "cell_type": "code",
   "execution_count": 122,
   "id": "336ea7ed",
   "metadata": {},
   "outputs": [
    {
     "data": {
      "text/plain": [
       "3"
      ]
     },
     "execution_count": 122,
     "metadata": {},
     "output_type": "execute_result"
    }
   ],
   "source": [
    "len(antonyms)"
   ]
  },
  {
   "cell_type": "markdown",
   "id": "f9fb8495",
   "metadata": {},
   "source": [
    "To see all the keys in a dictionary, use the keys function:"
   ]
  },
  {
   "cell_type": "code",
   "execution_count": 123,
   "id": "bacf0f4c",
   "metadata": {},
   "outputs": [
    {
     "name": "stdout",
     "output_type": "stream",
     "text": [
      "dict_keys(['hot', 'fast', 'good'])\n"
     ]
    }
   ],
   "source": [
    "print(antonyms.keys())"
   ]
  },
  {
   "cell_type": "markdown",
   "id": "d68ad9aa",
   "metadata": {},
   "source": [
    "The same thing works to get the values:"
   ]
  },
  {
   "cell_type": "code",
   "execution_count": 124,
   "id": "57caaa39",
   "metadata": {},
   "outputs": [
    {
     "name": "stdout",
     "output_type": "stream",
     "text": [
      "dict_values(['cold', 'slow', 'bad'])\n"
     ]
    }
   ],
   "source": [
    "print(antonyms.values())"
   ]
  },
  {
   "cell_type": "markdown",
   "id": "569c7d25",
   "metadata": {},
   "source": [
    "### Dictionaries are mutable\n",
    "\n",
    "We already saw that we can add elements to a dictionary. We can change the value associated with a particular key by just assigning a value:"
   ]
  },
  {
   "cell_type": "code",
   "execution_count": 125,
   "id": "fce464a3",
   "metadata": {},
   "outputs": [
    {
     "data": {
      "text/plain": [
       "{'hot': 'cold', 'fast': 'gorge', 'good': 'bad'}"
      ]
     },
     "execution_count": 125,
     "metadata": {},
     "output_type": "execute_result"
    }
   ],
   "source": [
    "antonyms['fast'] = 'gorge'\n",
    "antonyms"
   ]
  },
  {
   "cell_type": "markdown",
   "id": "f11c611a",
   "metadata": {},
   "source": [
    "As you can see, working with dictionaries is kind of like working with\n",
    "lists and tuples, except that you can’t join dicts with the plus operator\n",
    "(+). If you try to do that, you’ll get an error message:"
   ]
  },
  {
   "cell_type": "code",
   "execution_count": 127,
   "id": "bd5d81b8",
   "metadata": {
    "scrolled": true
   },
   "outputs": [],
   "source": [
    "antonyms = {'hot': 'cold', 'fast': 'slow', 'good': 'bad'}\n",
    "\n",
    "synonyms = {'hot': 'very warm', 'fast': 'quick', 'good': 'fine'}\n",
    "\n",
    "antonyms+synonyms"
   ]
  },
  {
   "cell_type": "markdown",
   "id": "3370f723",
   "metadata": {},
   "source": [
    "OK, merging antonyms and synonyms into a single dictionary doesn't make a lot of sense, but we're just learning how to use dictionaries... Here is one way to merge the list.  But notice the result has only three elements, not six. Why?"
   ]
  },
  {
   "cell_type": "code",
   "execution_count": 128,
   "id": "4c62e4b7",
   "metadata": {},
   "outputs": [
    {
     "data": {
      "text/plain": [
       "{'hot': 'very warm', 'fast': 'quick', 'good': 'fine'}"
      ]
     },
     "execution_count": 128,
     "metadata": {},
     "output_type": "execute_result"
    }
   ],
   "source": [
    "newdict = {}\n",
    "newdict.update(antonyms)\n",
    "newdict.update(synonyms)\n",
    "newdict"
   ]
  },
  {
   "cell_type": "markdown",
   "id": "11c676dd",
   "metadata": {},
   "source": [
    "Maybe the result is different if we ensure the keys are unique?"
   ]
  },
  {
   "cell_type": "code",
   "execution_count": 129,
   "id": "f9bee20c",
   "metadata": {},
   "outputs": [
    {
     "data": {
      "text/plain": [
       "{'hot': 'cold', 'fast': 'slow', 'good': 'bad', 'blue': 'cold', 'red': 'hot'}"
      ]
     },
     "execution_count": 129,
     "metadata": {},
     "output_type": "execute_result"
    }
   ],
   "source": [
    "antonyms = {'hot': 'cold', 'fast': 'slow', 'good': 'bad'}\n",
    "antonyms2 = {'blue': 'cold', 'red': 'hot'}\n",
    "newdict = {}\n",
    "newdict.update(antonyms)\n",
    "newdict.update(antonyms2)\n",
    "newdict"
   ]
  },
  {
   "cell_type": "markdown",
   "id": "1142275c",
   "metadata": {},
   "source": [
    "If you want to delete a dictionary entry, use del:"
   ]
  },
  {
   "cell_type": "code",
   "execution_count": 130,
   "id": "0f5f0b3f",
   "metadata": {},
   "outputs": [
    {
     "data": {
      "text/plain": [
       "{'hot': 'cold', 'fast': 'slow', 'good': 'bad', 'blue': 'cold'}"
      ]
     },
     "execution_count": 130,
     "metadata": {},
     "output_type": "execute_result"
    }
   ],
   "source": [
    "del newdict['red']\n",
    "newdict"
   ]
  },
  {
   "cell_type": "markdown",
   "id": "9722f92b",
   "metadata": {},
   "source": [
    "What happens if you try to rerun the cell above after you have already run it?"
   ]
  },
  {
   "cell_type": "code",
   "execution_count": 131,
   "id": "ec806bcd",
   "metadata": {},
   "outputs": [],
   "source": [
    "cityPlanners_dict = {\"name\": \"Jane Jacobs\", \\\n",
    "                     \"year of birth\": 1916, \\\n",
    "                     \"year of death\": 2006, \\\n",
    "                     \"place of birth\": \"Pennsylvania\"}"
   ]
  },
  {
   "cell_type": "markdown",
   "id": "1358772f",
   "metadata": {},
   "source": [
    "- The keys have to be **unique** and are **immutable**. The usual suspects are strings and integers.\n",
    "- The values can be anything, including lists, and even other dictionaries (nested dictionaries):"
   ]
  },
  {
   "cell_type": "code",
   "execution_count": 132,
   "id": "b88b6658",
   "metadata": {},
   "outputs": [],
   "source": [
    "cityPlanners_dict = {\"name\": \"Jane Jacobs\", \\\n",
    "                     \"year of birth\": 1916, \\\n",
    "                     \"year of death\": 2006, \\\n",
    "                     \"place of birth\": \"Pennsylvania\", \\\n",
    "                     \"books\": [\"The Death and Life of Great American Cities\",\\\n",
    "                               \"Cities and the Wealth of Nations\",\"Dark Age Ahead\",\\\n",
    "                               \"Eyes on the Street: The Life of Jane Jacobs\",\\\n",
    "                               \"The Economy of Cities\"]}\n"
   ]
  },
  {
   "cell_type": "markdown",
   "id": "b724264b",
   "metadata": {},
   "source": [
    "- key/value pairs are **unordered**. Even though they print in a particular way, this doesn't mean that one comes before the other."
   ]
  },
  {
   "cell_type": "code",
   "execution_count": 134,
   "id": "9b2e35bb",
   "metadata": {
    "scrolled": true
   },
   "outputs": [],
   "source": [
    "print(cityPlanners_dict)"
   ]
  },
  {
   "cell_type": "markdown",
   "id": "7bd7692f",
   "metadata": {},
   "source": [
    "### Use dictionary keys to access the values\n",
    "\n",
    "- Instead of using indices to extract items, dictionaries uses key-value pairs to find and retrieve information."
   ]
  },
  {
   "cell_type": "code",
   "execution_count": 135,
   "id": "6dd6b3cc",
   "metadata": {},
   "outputs": [
    {
     "name": "stdout",
     "output_type": "stream",
     "text": [
      "dict_keys(['name', 'year of birth', 'year of death', 'place of birth', 'books']) \n",
      "\n",
      "dict_values(['Jane Jacobs', 1916, 2006, 'Pennsylvania', ['The Death and Life of Great American Cities', 'Cities and the Wealth of Nations', 'Dark Age Ahead', 'Eyes on the Street: The Life of Jane Jacobs', 'The Economy of Cities']])\n"
     ]
    }
   ],
   "source": [
    "print(cityPlanners_dict.keys(),'\\n')\n",
    "print(cityPlanners_dict.values())"
   ]
  },
  {
   "cell_type": "markdown",
   "id": "2f4b46b7",
   "metadata": {},
   "source": [
    "- If you wanted the value of a particular key:"
   ]
  },
  {
   "cell_type": "code",
   "execution_count": 136,
   "id": "457f714f",
   "metadata": {},
   "outputs": [
    {
     "data": {
      "text/plain": [
       "'Jane Jacobs'"
      ]
     },
     "execution_count": 136,
     "metadata": {},
     "output_type": "execute_result"
    }
   ],
   "source": [
    "cityPlanners_dict[\"name\"]"
   ]
  },
  {
   "cell_type": "markdown",
   "id": "12ccad85",
   "metadata": {},
   "source": [
    "- Or perhaps you wanted the last element of the `books` list"
   ]
  },
  {
   "cell_type": "code",
   "execution_count": 137,
   "id": "ad4eee60",
   "metadata": {},
   "outputs": [
    {
     "data": {
      "text/plain": [
       "'The Economy of Cities'"
      ]
     },
     "execution_count": 137,
     "metadata": {},
     "output_type": "execute_result"
    }
   ],
   "source": [
    "cityPlanners_dict[\"books\"][-1]"
   ]
  },
  {
   "cell_type": "markdown",
   "id": "d8e7e51d",
   "metadata": {},
   "source": [
    "### Dictionaries compared to lists\n",
    "\n",
    "In general, if you need data to be ordered or you have only simple data not needing to be subset, use a list.\n",
    "\n",
    "If the data is complex or hierarchical, the dictionary's `key` / `value` structure can be very helpful. If you are only concerned about membership in a collection, dictionaries will always be much faster to reference, as the computer doesn't have to keep track of order. And to make a hierarchical or nested data structure, you can put a list (or even another dictionary!) inside a dictionary as the `value`.\n",
    "\n",
    "**Looking Ahead**: when you begin looking at data embedded in websites, it is generally going to be in JSON format, which is comprised of, guess what? Nested Dictionaries!"
   ]
  },
  {
   "cell_type": "markdown",
   "id": "41c822bf",
   "metadata": {},
   "source": [
    "### You can easily extend a dictionary by adding new keys\n",
    "\n",
    "- Note that dictionaries are \"indexed\" with square braces, just like lists--they look the same, even though they're very different."
   ]
  },
  {
   "cell_type": "code",
   "execution_count": 138,
   "id": "33edda53",
   "metadata": {},
   "outputs": [
    {
     "name": "stdout",
     "output_type": "stream",
     "text": [
      "{'name': 'Jane Jacobs', 'year of birth': 1916, 'year of death': 2006, 'place of birth': 'San Francisco', 'books': ['The Death and Life of Great American Cities', 'Cities and the Wealth of Nations', 'Dark Age Ahead', 'Eyes on the Street: The Life of Jane Jacobs', 'The Economy of Cities']}\n"
     ]
    }
   ],
   "source": [
    "cityPlanners_dict[\"place of birth\"] = \"San Francisco\"\n",
    "print(cityPlanners_dict)"
   ]
  },
  {
   "cell_type": "code",
   "execution_count": 139,
   "id": "142190e0",
   "metadata": {},
   "outputs": [
    {
     "name": "stdout",
     "output_type": "stream",
     "text": [
      "{'name': 'Jane Jacobs', 'year of birth': 1916, 'year of death': 2006, 'place of birth': 'San Francisco', 'books': ['The Death and Life of Great American Cities', 'Cities and the Wealth of Nations', 'Dark Age Ahead', 'Eyes on the Street: The Life of Jane Jacobs', 'The Economy of Cities'], 'gender': 'Female'}\n"
     ]
    }
   ],
   "source": [
    "cityPlanners_dict[\"gender\"] = \"Female\"\n",
    "print(cityPlanners_dict)"
   ]
  },
  {
   "cell_type": "markdown",
   "id": "be46d628",
   "metadata": {},
   "source": [
    "### You can loop through dictionaries\n",
    "\n",
    "We haven't gotten to iteration just yet - we'll cover it in more detail in the next couple of sessions, but one of rhe things you can do with dictionariea is to iterate over their elements.  You can do this will all data types that are *iterable*, including lists, strings, and tuples we have already covered.\n",
    "\n",
    "- There are several ways to loop through dictionaries. Looping over `.keys()` using a 'for' loop is an easy method.\n",
    "- Note the order is not sorted by key."
   ]
  },
  {
   "cell_type": "code",
   "execution_count": 140,
   "id": "7a353dc4",
   "metadata": {},
   "outputs": [
    {
     "name": "stdout",
     "output_type": "stream",
     "text": [
      "white 0.643\n",
      "african_american 0.068\n",
      "asian 0.21\n",
      "other 0.079\n"
     ]
    }
   ],
   "source": [
    "race = {'white': 0.643, 'african_american': 0.068, 'asian': 0.21, 'other': 0.079}\n",
    "\n",
    "for key in race.keys():\n",
    "    print(key, race[key])"
   ]
  },
  {
   "cell_type": "markdown",
   "id": "387dbac3",
   "metadata": {},
   "source": [
    "Using a for loop makes it really easy to change the value of items in the dictionary, like transforming fractions to percentages:"
   ]
  },
  {
   "cell_type": "code",
   "execution_count": 141,
   "id": "08b4a75e",
   "metadata": {},
   "outputs": [
    {
     "name": "stdout",
     "output_type": "stream",
     "text": [
      "{'white': 64.3, 'african_american': 6.8, 'asian': 21.0, 'other': 7.9}\n"
     ]
    }
   ],
   "source": [
    "# translate fractions to percentages \n",
    "race = {'white': 0.643, 'african_american': 0.068, 'asian': 0.21, 'other': 0.079}\n",
    "for value in race.keys():\n",
    "    race[value] = round(100 * race[value],2)\n",
    "\n",
    "print(race)"
   ]
  },
  {
   "cell_type": "markdown",
   "id": "a2365d3b",
   "metadata": {},
   "source": [
    "To see if something is in a collection like a list or a dictionary, use the `in` operator:"
   ]
  },
  {
   "cell_type": "code",
   "execution_count": 142,
   "id": "95c10ae9",
   "metadata": {},
   "outputs": [
    {
     "name": "stdout",
     "output_type": "stream",
     "text": [
      "True\n",
      "False\n",
      "True\n",
      "False\n"
     ]
    }
   ],
   "source": [
    "countries = [\"Afghanistan\", \"Canada\", \"Denmark\", \"Japan\"]\n",
    "race = {'white': 0.643, 'african_american': 0.068, 'asian': 0.21, 'other': 0.079}\n",
    "\n",
    "print('Japan' in countries)\n",
    "print('Iran'in countries)\n",
    "print('asian' in race)\n",
    "print('asian' not in race)"
   ]
  },
  {
   "cell_type": "markdown",
   "id": "d5fb4f5c",
   "metadata": {},
   "source": [
    "*****\n",
    "\n",
    "### Dictionary Summary\n",
    "\n",
    "1. A python dictionary is a collection of key, value pairs.\n",
    "2. Use dictionary keys to access the values.\n",
    "3. Once a dictionary has been created, you can change the values of the data and assign new keys.\n",
    "4. You can loop through key/value pairs in a dictionary."
   ]
  },
  {
   "cell_type": "markdown",
   "id": "c7213a87",
   "metadata": {},
   "source": [
    "## What You Learned\n"
   ]
  },
  {
   "cell_type": "markdown",
   "id": "5b77794b",
   "metadata": {},
   "source": [
    "In this session, you learned how Python uses numeric data types like ints and floats, and now string data types work.  You learned that Python Indexing starts at 0 and learned out to do some string manipulations and convert data between types.\n",
    "\n",
    "Now would be a good time to review and experiment with these data types and methods to get comfortable with them.  They are the first pieces of the foundation you are building to become productive in Python programming and urban data science."
   ]
  },
  {
   "cell_type": "code",
   "execution_count": null,
   "id": "d111732c",
   "metadata": {},
   "outputs": [],
   "source": []
  },
  {
   "cell_type": "code",
   "execution_count": null,
   "id": "af3bf26d",
   "metadata": {},
   "outputs": [],
   "source": []
  },
  {
   "cell_type": "markdown",
   "id": "8401d76b",
   "metadata": {
    "slideshow": {
     "slide_type": "skip"
    }
   },
   "source": [
    "# Sources\n",
    "\n",
    "This notebook was heavily adapted from previous course material by Prof. Paul Waddell and Samuel Maurer."
   ]
  }
 ],
 "metadata": {
  "kernelspec": {
   "display_name": "Python 3",
   "language": "python",
   "name": "python3"
  },
  "language_info": {
   "codemirror_mode": {
    "name": "ipython",
    "version": 3
   },
   "file_extension": ".py",
   "mimetype": "text/x-python",
   "name": "python",
   "nbconvert_exporter": "python",
   "pygments_lexer": "ipython3",
   "version": "3.8.5"
  },
  "toc": {
   "base_numbering": 1,
   "nav_menu": {},
   "number_sections": false,
   "sideBar": false,
   "skip_h1_title": true,
   "title_cell": "Table of Contents",
   "title_sidebar": "Contents",
   "toc_cell": true,
   "toc_position": {},
   "toc_section_display": true,
   "toc_window_display": false
  }
 },
 "nbformat": 4,
 "nbformat_minor": 5
}
